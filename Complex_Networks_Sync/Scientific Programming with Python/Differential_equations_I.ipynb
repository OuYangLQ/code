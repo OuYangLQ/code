{
 "cells": [
  {
   "cell_type": "markdown",
   "id": "474a4e3f",
   "metadata": {},
   "source": [
    "# Differential equations I: Basics and 1-dinmensional problems"
   ]
  },
  {
   "cell_type": "markdown",
   "id": "15253899",
   "metadata": {},
   "source": [
    "## Solving differential equations"
   ]
  },
  {
   "cell_type": "markdown",
   "id": "06503572",
   "metadata": {},
   "source": [
    "### 1. Euler method"
   ]
  },
  {
   "cell_type": "markdown",
   "id": "3894a5a5",
   "metadata": {},
   "source": [
    "1.1 First order differential equation\n",
    "\n",
    "We try to solve the following type of differential equation\n",
    "\n",
    "$\n",
    "\\frac{dy}{dt}=f(t,y)\n",
    "$\n",
    "\n",
    "Since $\\frac{dy}{dt}=\\frac{y(t + h)-y(t)}{h}$, we know that $y(t + h)=\\frac{dy}{dt}h + y(t)$.\n",
    "\n",
    "Therefore, we can repetitively iterate the propagation:\n",
    "\n",
    "From the value $y_n$ at step $n$, corresponding to the time $t$, we can calculate the value $y_{n + 1}$ at step $(n + 1)$, corresponding to the time $(t + h)$:\n",
    "\n",
    "$\n",
    "y_{n+1}=y_n+\\frac{dy}{dt}h \\text{ which is}\n",
    "$\n",
    "\n",
    "$\n",
    "y_{n+1}=y_n + f(t,y_n)h\n",
    "$"
   ]
  },
  {
   "cell_type": "markdown",
   "id": "ece2b724",
   "metadata": {},
   "source": [
    "#### Example 1) Radioactive decay\n",
    "\n",
    "$\n",
    "\\dot{y}=-y \\text{ or }\n",
    "$\n",
    "\n",
    "$\n",
    "\\frac{dy}{dt}=f(t,y)= -y\n",
    "$\n",
    "\n",
    "Analytical solution: $y(t)=y_0\\exp(-t)$"
   ]
  },
  {
   "cell_type": "code",
   "execution_count": null,
   "id": "d127d55d",
   "metadata": {},
   "outputs": [],
   "source": [
    "import numpy as np\n",
    "from scipy import integrate\n",
    "import matplotlib.pyplot as plt"
   ]
  },
  {
   "cell_type": "code",
   "execution_count": null,
   "id": "6c9766df",
   "metadata": {},
   "outputs": [],
   "source": [
    "# Number of iterations\n",
    "n = 20\n",
    "\n",
    "# Step size\n",
    "h = 0.1\n",
    "\n",
    "# Initial value\n",
    "y0 = 1\n",
    "\n",
    "# Collect data\n",
    "t_values = [0]\n",
    "y_values = [y0]"
   ]
  },
  {
   "cell_type": "code",
   "execution_count": null,
   "id": "0c369823",
   "metadata": {},
   "outputs": [],
   "source": [
    "def numerical_solution(y0, h, n):\n",
    "    y = y0\n",
    "    for i in range(1,n + 1):\n",
    "        f = -y\n",
    "        y = y + f * h;\n",
    "        t_values.append(i * h)\n",
    "        y_values.append(y)\n",
    "    return y\n"
   ]
  },
  {
   "cell_type": "code",
   "execution_count": null,
   "id": "2ae4de46",
   "metadata": {},
   "outputs": [],
   "source": [
    "print(numerical_solution(y0, h, n))\n",
    "\n",
    "t = n * h\n",
    "print(y0 * np.exp(-t))"
   ]
  },
  {
   "cell_type": "code",
   "execution_count": null,
   "id": "f1630c73",
   "metadata": {},
   "outputs": [],
   "source": [
    "print(t_values)\n",
    "print(y_values)"
   ]
  },
  {
   "cell_type": "code",
   "execution_count": null,
   "id": "3170c068",
   "metadata": {},
   "outputs": [],
   "source": [
    "t_real = np.linspace(0,t,n)\n",
    "y_real = y0 * np.exp(-t_real)\n",
    "plt.plot(t_real,y_real,'red')\n",
    "\n",
    "plt.xlabel('t')\n",
    "plt.ylabel('y')\n",
    "plt.scatter(t_values,y_values)"
   ]
  }
 ],
 "metadata": {
  "kernelspec": {
   "display_name": "complex_networks",
   "language": "python",
   "name": "complex_networks"
  },
  "language_info": {
   "codemirror_mode": {
    "name": "ipython",
    "version": 3
   },
   "file_extension": ".py",
   "mimetype": "text/x-python",
   "name": "python",
   "nbconvert_exporter": "python",
   "pygments_lexer": "ipython3",
   "version": "3.13.2"
  }
 },
 "nbformat": 4,
 "nbformat_minor": 5
}
