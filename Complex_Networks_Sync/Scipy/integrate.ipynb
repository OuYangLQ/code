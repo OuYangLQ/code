{
 "cells": [
  {
   "cell_type": "markdown",
   "id": "c3ace0e1",
   "metadata": {},
   "source": [
    "# scipy.integrate."
   ]
  },
  {
   "cell_type": "markdown",
   "id": "884bf987",
   "metadata": {},
   "source": [
    "## solve_ivp"
   ]
  },
  {
   "cell_type": "markdown",
   "id": "dfaddee9",
   "metadata": {},
   "source": [
    "https://docs.scipy.org/doc/scipy/reference/generated/scipy.integrate.solve_ivp.html#r179348322575-12"
   ]
  },
  {
   "cell_type": "markdown",
   "id": "6aa62be6",
   "metadata": {},
   "source": [
    "### Examples"
   ]
  },
  {
   "cell_type": "code",
   "execution_count": null,
   "id": "7df7c5fa",
   "metadata": {},
   "outputs": [],
   "source": [
    "import numpy as np\n",
    "from scipy.integrate import solve_ivp\n",
    "import matplotlib.pyplot as plt"
   ]
  },
  {
   "cell_type": "code",
   "execution_count": null,
   "id": "8c417ee7",
   "metadata": {},
   "outputs": [],
   "source": [
    "def exponential_decay(t, y):\n",
    "    return -0.5 * y"
   ]
  },
  {
   "cell_type": "code",
   "execution_count": null,
   "id": "bbf5067d",
   "metadata": {},
   "outputs": [],
   "source": [
    "sol = solve_ivp(exponential_decay, [0, 10], [2, 4, 8])\n",
    "print(sol.t)"
   ]
  },
  {
   "cell_type": "code",
   "execution_count": null,
   "id": "7f48f3bd",
   "metadata": {},
   "outputs": [],
   "source": [
    "print(sol.y)"
   ]
  },
  {
   "cell_type": "code",
   "execution_count": null,
   "id": "f67d99f4",
   "metadata": {},
   "outputs": [],
   "source": [
    "plt.scatter(sol.t, sol.y[0])\n",
    "# plt.plot(sol.t, sol.y.T)"
   ]
  },
  {
   "cell_type": "markdown",
   "id": "5992f919",
   "metadata": {},
   "source": [
    "#### Specifying points where the solution is desired."
   ]
  },
  {
   "cell_type": "code",
   "execution_count": null,
   "id": "893a4659",
   "metadata": {},
   "outputs": [],
   "source": [
    "sol = solve_ivp(exponential_decay, [0, 10], [2, 4, 8], t_eval=[0, 1, 2, 4, 10])\n",
    "print(sol.t)"
   ]
  },
  {
   "cell_type": "code",
   "execution_count": null,
   "id": "429211ee",
   "metadata": {},
   "outputs": [],
   "source": [
    "print(sol.y)"
   ]
  },
  {
   "cell_type": "markdown",
   "id": "5b6e39da",
   "metadata": {},
   "source": [
    "#### As an example of a system with additional parameters, we’ll implement the Lotka-Volterra equations"
   ]
  },
  {
   "cell_type": "markdown",
   "id": "489f4dae",
   "metadata": {},
   "source": [
    "dx/dt = αx - βxy  \n",
    "dy/dt = δxy - γy"
   ]
  },
  {
   "cell_type": "code",
   "execution_count": null,
   "id": "f0acd0d4",
   "metadata": {},
   "outputs": [],
   "source": [
    "# z is a vector, contain all state variable\n",
    "def lotkavolterra(t, z, alpha, beta, delta, gamma):\n",
    "    x, y = z\n",
    "    dx_dt = alpha * x - beta * x * y\n",
    "    dy_dt = delta * x * y - gamma * y\n",
    "    # return the derivative of the state variable\n",
    "    return [dx_dt, dy_dt]"
   ]
  },
  {
   "cell_type": "code",
   "execution_count": null,
   "id": "c08caab3",
   "metadata": {},
   "outputs": [],
   "source": [
    "alpla = 1.5\n",
    "beta = 1\n",
    "delta = 1\n",
    "gamma = 3"
   ]
  },
  {
   "cell_type": "code",
   "execution_count": 103,
   "id": "f2d6317e",
   "metadata": {},
   "outputs": [],
   "source": [
    "sol = solve_ivp(lotkavolterra, [0, 15], [10, 5], args=(alpla, beta, delta, gamma), dense_output=True)"
   ]
  },
  {
   "cell_type": "markdown",
   "id": "6c884752",
   "metadata": {},
   "source": [
    "https://matplotlib.org/stable/api/_as_gen/matplotlib.pyplot.plot.html"
   ]
  },
  {
   "cell_type": "code",
   "execution_count": null,
   "id": "a00055c0",
   "metadata": {},
   "outputs": [],
   "source": [
    "t = np.linspace(0, 15, 300)\n",
    "z = sol.sol(t)\n",
    "plt.plot(t, z.T)\n",
    "plt.xlabel('t')\n",
    "plt.legend(['x','y'], shadow=True)\n",
    "plt.title('Lotka-Volterra System')\n",
    "plt.show()"
   ]
  },
  {
   "cell_type": "markdown",
   "id": "daf26e47",
   "metadata": {},
   "source": [
    "#### A couple examples of using solve_ivp to solve the differential equation y' = Ay with complex matrix A."
   ]
  },
  {
   "cell_type": "code",
   "execution_count": null,
   "id": "510469d5",
   "metadata": {},
   "outputs": [],
   "source": [
    "A = np.array([[-0.25 + 0.14j, 0, 0.33 + 0.44j],\n",
    "              [0.25 + 0.58j, -0.2 + 0.14j, 0],\n",
    "              [0, 0.2 + 0.4j, -0.1 + 0.97j]])"
   ]
  },
  {
   "cell_type": "markdown",
   "id": "58bd751f",
   "metadata": {},
   "source": [
    "#### Solving an IVP with A from above and y as 3x1 vector:"
   ]
  },
  {
   "cell_type": "code",
   "execution_count": null,
   "id": "28745931",
   "metadata": {},
   "outputs": [],
   "source": [
    "def deriv_vec(t, y):\n",
    "    return A @ y\n",
    "result = solve_ivp(deriv_vec, [0, 25],\n",
    "                   np.array([10 + 0j, 20 + 0j, 30 + 0j]),\n",
    "                   t_eval=np.linspace(0, 25, 101))\n",
    "print(result.y[:, 0])\n",
    "print(result.y[:, -1])"
   ]
  },
  {
   "cell_type": "markdown",
   "id": "61966f43",
   "metadata": {},
   "source": [
    "#### Solving an IVP with A from above with y as 3x3 matrix :"
   ]
  },
  {
   "cell_type": "code",
   "execution_count": null,
   "id": "2fd65957",
   "metadata": {},
   "outputs": [],
   "source": [
    "# y must be 1D\n",
    "def deriv_mat(t, y):\n",
    "    # return must be 1D\n",
    "    return (A @ y.reshape(3, 3)).flatten() # @ matrix multiply\n",
    "y0 = np.array([[2 + 0j, 3 + 0j, 4 + 0j],\n",
    "               [5 + 0j, 6 + 0j, 7 + 0j],\n",
    "               [9 + 0j, 34 + 0j, 78 + 0j]])"
   ]
  },
  {
   "cell_type": "code",
   "execution_count": null,
   "id": "c2d8058b",
   "metadata": {},
   "outputs": [],
   "source": [
    "# y0 must be 1D\n",
    "result = solve_ivp(deriv_mat, [0, 25], y0.flatten(),\n",
    "                   t_eval=np.linspace(0, 25, 101))\n",
    "print(result.y[:, 0].reshape(3, 3))\n",
    "print(result.y[:, -1].reshape(3, 3))"
   ]
  }
 ],
 "metadata": {
  "kernelspec": {
   "display_name": "complex_networks",
   "language": "python",
   "name": "complex_networks"
  },
  "language_info": {
   "codemirror_mode": {
    "name": "ipython",
    "version": 3
   },
   "file_extension": ".py",
   "mimetype": "text/x-python",
   "name": "python",
   "nbconvert_exporter": "python",
   "pygments_lexer": "ipython3",
   "version": "3.13.2"
  }
 },
 "nbformat": 4,
 "nbformat_minor": 5
}
